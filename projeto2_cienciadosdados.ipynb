{
  "cells": [
    {
      "cell_type": "code",
      "execution_count": null,
      "metadata": {
        "id": "4IfvjGvGjoaf",
        "colab": {
          "base_uri": "https://localhost:8080/"
        },
        "outputId": "0e9b3c0f-28c6-4f19-b542-f6d4295cdec6"
      },
      "outputs": [
        {
          "output_type": "stream",
          "name": "stdout",
          "text": [
            "Generating locales (this might take a while)...\n",
            "  pt_BR.UTF-8... done\n",
            "Generation complete.\n",
            "\u001b[1mdpkg-trigger:\u001b[0m \u001b[1;31merror:\u001b[0m must be called from a maintainer script (or with a --by-package option)\n",
            "\n",
            "Type dpkg-trigger --help for help about this utility.\n",
            "Generating locales (this might take a while)...\n",
            "  en_US.UTF-8... done\n",
            "  pt_BR.UTF-8... done\n",
            "Generation complete.\n",
            "\u001b[K     |████████████████████████████████| 16.9 MB 7.5 MB/s \n",
            "\u001b[K     |████████████████████████████████| 79 kB 8.7 MB/s \n",
            "\u001b[K     |████████████████████████████████| 77 kB 7.2 MB/s \n",
            "\u001b[K     |████████████████████████████████| 209 kB 54.8 MB/s \n",
            "\u001b[K     |████████████████████████████████| 181 kB 47.8 MB/s \n",
            "\u001b[K     |████████████████████████████████| 147 kB 61.9 MB/s \n",
            "\u001b[K     |████████████████████████████████| 78 kB 7.7 MB/s \n",
            "\u001b[K     |████████████████████████████████| 55 kB 3.1 MB/s \n",
            "\u001b[K     |████████████████████████████████| 62 kB 1.6 MB/s \n",
            "\u001b[K     |████████████████████████████████| 140 kB 47.3 MB/s \n",
            "\u001b[K     |████████████████████████████████| 63 kB 2.1 MB/s \n",
            "\u001b[K     |████████████████████████████████| 59 kB 6.9 MB/s \n",
            "\u001b[?25h  Building wheel for databricks-cli (setup.py) ... \u001b[?25l\u001b[?25hdone\n"
          ]
        }
      ],
      "source": [
        "import os\n",
        "\n",
        "!/usr/share/locales/install-language-pack pt_BR.UTF-8\n",
        "!dpkg-reconfigure locales\n",
        "!pip install mlflow --quiet\n",
        "!pip install utils --quiet\n",
        "\n",
        "\n",
        "# Restart Python process to pick up the new locales\n",
        "os.kill(os.getpid(), 9)"
      ]
    },
    {
      "cell_type": "code",
      "execution_count": 1,
      "metadata": {
        "id": "1NfKRiOhkzRp"
      },
      "outputs": [],
      "source": [
        "import pandas as pd\n",
        "import numpy as np\n",
        "import matplotlib.pyplot as plt\n",
        "from locale import atof, setlocale, LC_NUMERIC, LC_MONETARY\n",
        "setlocale(LC_MONETARY, 'pt_BR.UTF-8')\n",
        "import mlflow\n",
        "from pprint import pprint\n",
        "from mlflow import MlflowClient"
      ]
    },
    {
      "cell_type": "code",
      "source": [
        "# enable autologging\n",
        "mlflow.sklearn.autolog()"
      ],
      "metadata": {
        "id": "_mnoLcvKWesB"
      },
      "execution_count": 2,
      "outputs": []
    },
    {
      "cell_type": "code",
      "source": [
        "def fetch_logged_data(run_id):\n",
        "  \"\"\"Fetch params, metrics, tags, and artifacts in the specified run\"\"\"\n",
        "  client = MlflowClient()\n",
        "  data = client.get_run(run_id).data\n",
        "  # Exclude system tags: https://www.mlflow.org/docs/latest/tracking.html#system-tags\n",
        "  tags = {k: v for k, v in data.tags.items() if not k.startswith(\"mlflow.\")}\n",
        "  artifacts = list(yield_artifacts(run_id))\n",
        "  return {\n",
        "      \"params\": data.params,\n",
        "      \"metrics\": data.metrics,\n",
        "      \"tags\": tags,\n",
        "      \"artifacts\": artifacts,\n",
        "  }\n",
        "\n",
        "def yield_artifacts(run_id, path=None):\n",
        "    \"\"\"Yield all artifacts in the specified run\"\"\"\n",
        "    client = MlflowClient()\n",
        "    for item in client.list_artifacts(run_id, path):\n",
        "        if item.is_dir:\n",
        "            yield from yield_artifacts(run_id, item.path)\n",
        "        else:\n",
        "            yield item.path"
      ],
      "metadata": {
        "id": "FNA2zjkLXzvY"
      },
      "execution_count": 3,
      "outputs": []
    },
    {
      "cell_type": "code",
      "execution_count": 4,
      "metadata": {
        "id": "30X8c004k2o8"
      },
      "outputs": [],
      "source": [
        "df = pd.read_csv('/content/drive/MyDrive/ufpe/Eletivas/if697 ds/proj 2/serie_historica_precos_combustiveis-2021-02.csv', encoding = 'ISO-8859-1', sep=';', decimal=',')"
      ]
    },
    {
      "cell_type": "code",
      "execution_count": 5,
      "metadata": {
        "id": "KBK9otJOlMdN"
      },
      "outputs": [],
      "source": [
        "columns = ['regiao', 'estado', 'municipio', 'revenda', 'cnpj', 'rua', 'numero', 'complemento', 'bairro', 'cep', 'produto', 'dtcoleta', 'vlvenda', 'vlcompra', 'medida', 'bandeira']\n",
        "df.set_axis(columns, axis=1, inplace=True)"
      ]
    },
    {
      "cell_type": "code",
      "execution_count": 6,
      "metadata": {
        "id": "azMtkZFRmoFO"
      },
      "outputs": [],
      "source": [
        "df = df.drop(columns=['estado', 'regiao', 'bandeira', 'medida', 'dtcoleta', 'bairro', 'cep', 'municipio', 'bairro', 'revenda', 'cnpj', 'rua', 'numero', 'complemento', 'vlcompra'])"
      ]
    },
    {
      "cell_type": "code",
      "execution_count": 7,
      "metadata": {
        "id": "ohhqJ6AzltWk"
      },
      "outputs": [],
      "source": [
        "from sklearn.model_selection import train_test_split\n",
        "\n",
        "#dividir em 80(treino):10(teste):10(validação)\n",
        "train_size=0.8\n",
        "\n",
        "#A coluna selecionada para predição será produto\n",
        "x = df.drop(columns = ['produto']).copy()\n",
        "y = df['produto']\n",
        "\n",
        "#obter dados de treinamento\n",
        "x_train, x_rem, y_train, y_rem = train_test_split(x,y, train_size=0.8)\n",
        "\n",
        "#agora dividir teste na metade do resto\n",
        "test_size = 0.5\n",
        "x_valid, x_test, y_valid, y_test = train_test_split(x_rem,y_rem, test_size=0.5)\n"
      ]
    },
    {
      "cell_type": "code",
      "source": [
        "def print_ml_stats():\n",
        "  run_id = mlflow.last_active_run().info.run_id\n",
        "  print(\"Logged data and model in run {}\".format(run_id))\n",
        "\n",
        "  # show logged data\n",
        "  for key, data in fetch_logged_data(run_id).items():\n",
        "      print(\"\\n---------- logged {} ----------\".format(key))\n",
        "      pprint(data)"
      ],
      "metadata": {
        "id": "tr5VnoOnW01v"
      },
      "execution_count": 8,
      "outputs": []
    },
    {
      "cell_type": "code",
      "execution_count": 9,
      "metadata": {
        "colab": {
          "base_uri": "https://localhost:8080/"
        },
        "id": "zUYPWpscxmql",
        "outputId": "733b6b3d-5792-4d41-9719-91e405eed83a"
      },
      "outputs": [
        {
          "output_type": "stream",
          "name": "stderr",
          "text": [
            "2022/10/03 11:18:03 INFO mlflow.utils.autologging_utils: Created MLflow autologging run with ID 'd2bbc23e3d9d42e19a4c0c61e9fbb4af', which will track hyperparameters, performance metrics, model artifacts, and lineage information for the current sklearn workflow\n",
            "/usr/local/lib/python3.7/dist-packages/sklearn/metrics/_classification.py:1318: UndefinedMetricWarning: Precision is ill-defined and being set to 0.0 in labels with no predicted samples. Use `zero_division` parameter to control this behavior.\n",
            "  _warn_prf(average, modifier, msg_start, len(result))\n"
          ]
        },
        {
          "output_type": "stream",
          "name": "stdout",
          "text": [
            "Accuracy in test: 0.41354735016706845\n"
          ]
        }
      ],
      "source": [
        "#Regressão Logística\n",
        "from sklearn.linear_model import LogisticRegression\n",
        "from sklearn.metrics import accuracy_score\n",
        "\n",
        "lr = LogisticRegression(solver='saga', max_iter=200)\n",
        "y_pred = lr.fit(x_train, y_train).predict(x_test)\n",
        "print(\"Accuracy in test: \" + str(accuracy_score(y_test, y_pred)))"
      ]
    },
    {
      "cell_type": "code",
      "source": [
        "print_ml_stats()"
      ],
      "metadata": {
        "colab": {
          "base_uri": "https://localhost:8080/"
        },
        "id": "hvSFhlIx_Aym",
        "outputId": "95540e3e-92d3-45e5-db37-c38cbe5455d1"
      },
      "execution_count": 10,
      "outputs": [
        {
          "output_type": "stream",
          "name": "stdout",
          "text": [
            "Logged data and model in run d2bbc23e3d9d42e19a4c0c61e9fbb4af\n",
            "\n",
            "---------- logged params ----------\n",
            "{'C': '1.0',\n",
            " 'class_weight': 'None',\n",
            " 'dual': 'False',\n",
            " 'fit_intercept': 'True',\n",
            " 'intercept_scaling': '1',\n",
            " 'l1_ratio': 'None',\n",
            " 'max_iter': '200',\n",
            " 'multi_class': 'auto',\n",
            " 'n_jobs': 'None',\n",
            " 'penalty': 'l2',\n",
            " 'random_state': 'None',\n",
            " 'solver': 'saga',\n",
            " 'tol': '0.0001',\n",
            " 'verbose': '0',\n",
            " 'warm_start': 'False'}\n",
            "\n",
            "---------- logged metrics ----------\n",
            "{'accuracy_score_x_test': 0.41354735016706845,\n",
            " 'training_accuracy_score': 0.413361389855241,\n",
            " 'training_f1_score': 0.315377860759953,\n",
            " 'training_log_loss': 1.1730494000544482,\n",
            " 'training_precision_score': 0.3035230250274077,\n",
            " 'training_recall_score': 0.413361389855241,\n",
            " 'training_roc_auc_score': 0.8020157833856082,\n",
            " 'training_score': 0.413361389855241}\n",
            "\n",
            "---------- logged tags ----------\n",
            "{'estimator_class': 'sklearn.linear_model._logistic.LogisticRegression',\n",
            " 'estimator_name': 'LogisticRegression'}\n",
            "\n",
            "---------- logged artifacts ----------\n",
            "['metric_info.json',\n",
            " 'model/MLmodel',\n",
            " 'model/conda.yaml',\n",
            " 'model/model.pkl',\n",
            " 'model/python_env.yaml',\n",
            " 'model/requirements.txt',\n",
            " 'training_confusion_matrix.png']\n"
          ]
        }
      ]
    },
    {
      "cell_type": "code",
      "execution_count": 11,
      "metadata": {
        "colab": {
          "base_uri": "https://localhost:8080/"
        },
        "id": "ijzVIgTZZcFK",
        "outputId": "145e63c4-23c5-46c5-9f90-7e7d531a613b"
      },
      "outputs": [
        {
          "output_type": "stream",
          "name": "stderr",
          "text": [
            "2022/10/03 11:18:43 INFO mlflow.utils.autologging_utils: Created MLflow autologging run with ID 'f4c1a8c3c2d44df890452c67b2629bbb', which will track hyperparameters, performance metrics, model artifacts, and lineage information for the current sklearn workflow\n",
            "/usr/local/lib/python3.7/dist-packages/sklearn/metrics/_classification.py:1318: UndefinedMetricWarning: Precision is ill-defined and being set to 0.0 in labels with no predicted samples. Use `zero_division` parameter to control this behavior.\n",
            "  _warn_prf(average, modifier, msg_start, len(result))\n"
          ]
        },
        {
          "output_type": "stream",
          "name": "stdout",
          "text": [
            "Accuracy in test: 0.44072241255339845\n"
          ]
        }
      ],
      "source": [
        " #Gaussian NaiveBayes\n",
        "from sklearn.naive_bayes import GaussianNB\n",
        "gnb = GaussianNB()\n",
        "y_pred = gnb.fit(x_train, y_train).predict(x_test)\n",
        "print(\"Accuracy in test: \" + str(accuracy_score(y_test, y_pred)))"
      ]
    },
    {
      "cell_type": "code",
      "source": [
        "print_ml_stats()"
      ],
      "metadata": {
        "colab": {
          "base_uri": "https://localhost:8080/"
        },
        "id": "O4kdEefNZX3r",
        "outputId": "f963939a-dcdf-4a87-b5cc-2b563c8a24cb"
      },
      "execution_count": 12,
      "outputs": [
        {
          "output_type": "stream",
          "name": "stdout",
          "text": [
            "Logged data and model in run f4c1a8c3c2d44df890452c67b2629bbb\n",
            "\n",
            "---------- logged params ----------\n",
            "{'priors': 'None', 'var_smoothing': '1e-09'}\n",
            "\n",
            "---------- logged metrics ----------\n",
            "{'accuracy_score_x_test': 0.44072241255339845,\n",
            " 'training_accuracy_score': 0.43786678791595735,\n",
            " 'training_f1_score': 0.3851964726116846,\n",
            " 'training_log_loss': 1.1531411300088636,\n",
            " 'training_precision_score': 0.3855479813648383,\n",
            " 'training_recall_score': 0.43786678791595735,\n",
            " 'training_roc_auc_score': 0.8002345144019587,\n",
            " 'training_score': 0.43786678791595735}\n",
            "\n",
            "---------- logged tags ----------\n",
            "{'estimator_class': 'sklearn.naive_bayes.GaussianNB',\n",
            " 'estimator_name': 'GaussianNB'}\n",
            "\n",
            "---------- logged artifacts ----------\n",
            "['metric_info.json',\n",
            " 'model/MLmodel',\n",
            " 'model/conda.yaml',\n",
            " 'model/model.pkl',\n",
            " 'model/python_env.yaml',\n",
            " 'model/requirements.txt',\n",
            " 'training_confusion_matrix.png']\n"
          ]
        }
      ]
    },
    {
      "cell_type": "code",
      "execution_count": 13,
      "metadata": {
        "colab": {
          "base_uri": "https://localhost:8080/"
        },
        "id": "_WfQ4GCXDsef",
        "outputId": "e0b7c02f-2344-43c7-d926-9d639b154275"
      },
      "outputs": [
        {
          "output_type": "stream",
          "name": "stderr",
          "text": [
            "2022/10/03 11:19:11 INFO mlflow.utils.autologging_utils: Created MLflow autologging run with ID 'c8c72092eb8a4456a5fbfff79d3ad5f5', which will track hyperparameters, performance metrics, model artifacts, and lineage information for the current sklearn workflow\n"
          ]
        },
        {
          "output_type": "stream",
          "name": "stdout",
          "text": [
            "Accuracy in test: 0.4783656896332953\n"
          ]
        }
      ],
      "source": [
        "#Decision Tree\n",
        "from sklearn import tree\n",
        "clf = tree.DecisionTreeClassifier()\n",
        "y_pred = clf.fit(x_train, y_train).predict(x_test)\n",
        "print(\"Accuracy in test: \" + str(accuracy_score(y_test, y_pred)))"
      ]
    },
    {
      "cell_type": "code",
      "source": [
        "print_ml_stats()"
      ],
      "metadata": {
        "colab": {
          "base_uri": "https://localhost:8080/"
        },
        "id": "ObJSg_lbZkcU",
        "outputId": "076cb2fd-9b5d-4ed7-a6f1-c60fad3299b9"
      },
      "execution_count": 14,
      "outputs": [
        {
          "output_type": "stream",
          "name": "stdout",
          "text": [
            "Logged data and model in run c8c72092eb8a4456a5fbfff79d3ad5f5\n",
            "\n",
            "---------- logged params ----------\n",
            "{'ccp_alpha': '0.0',\n",
            " 'class_weight': 'None',\n",
            " 'criterion': 'gini',\n",
            " 'max_depth': 'None',\n",
            " 'max_features': 'None',\n",
            " 'max_leaf_nodes': 'None',\n",
            " 'min_impurity_decrease': '0.0',\n",
            " 'min_samples_leaf': '1',\n",
            " 'min_samples_split': '2',\n",
            " 'min_weight_fraction_leaf': '0.0',\n",
            " 'random_state': 'None',\n",
            " 'splitter': 'best'}\n",
            "\n",
            "---------- logged metrics ----------\n",
            "{'accuracy_score_x_test': 0.4783656896332953,\n",
            " 'training_accuracy_score': 0.4849187383024394,\n",
            " 'training_f1_score': 0.4661746167166282,\n",
            " 'training_log_loss': 1.069998039265622,\n",
            " 'training_precision_score': 0.4894812123378349,\n",
            " 'training_recall_score': 0.4849187383024394,\n",
            " 'training_roc_auc_score': 0.8398987543051145,\n",
            " 'training_score': 0.4849187383024394}\n",
            "\n",
            "---------- logged tags ----------\n",
            "{'estimator_class': 'sklearn.tree._classes.DecisionTreeClassifier',\n",
            " 'estimator_name': 'DecisionTreeClassifier'}\n",
            "\n",
            "---------- logged artifacts ----------\n",
            "['metric_info.json',\n",
            " 'model/MLmodel',\n",
            " 'model/conda.yaml',\n",
            " 'model/model.pkl',\n",
            " 'model/python_env.yaml',\n",
            " 'model/requirements.txt',\n",
            " 'training_confusion_matrix.png']\n"
          ]
        }
      ]
    },
    {
      "cell_type": "code",
      "execution_count": 15,
      "metadata": {
        "id": "rKffP7alDtCU",
        "colab": {
          "base_uri": "https://localhost:8080/"
        },
        "outputId": "a7c8ea9b-569a-4636-d5b1-e582cde4af5b"
      },
      "outputs": [
        {
          "output_type": "stream",
          "name": "stderr",
          "text": [
            "2022/10/03 11:19:39 INFO mlflow.utils.autologging_utils: Created MLflow autologging run with ID '2b4146605417472eb45d84efa83660d2', which will track hyperparameters, performance metrics, model artifacts, and lineage information for the current sklearn workflow\n"
          ]
        },
        {
          "output_type": "stream",
          "name": "stdout",
          "text": [
            "Accuracy in test: 0.40834496468299286\n"
          ]
        }
      ],
      "source": [
        "#SVM\n",
        "from sklearn.neighbors import KNeighborsClassifier\n",
        "clf = KNeighborsClassifier(n_neighbors=3)\n",
        "y_pred = clf.fit(x_train, y_train).predict(x_test)\n",
        "print(\"Accuracy in test: \" + str(accuracy_score(y_test, y_pred)))"
      ]
    },
    {
      "cell_type": "code",
      "source": [
        "print_ml_stats()"
      ],
      "metadata": {
        "id": "OBOVOhWPZwlh",
        "colab": {
          "base_uri": "https://localhost:8080/"
        },
        "outputId": "f947da36-624d-4dca-8062-a10ca9d5f183"
      },
      "execution_count": 16,
      "outputs": [
        {
          "output_type": "stream",
          "name": "stdout",
          "text": [
            "Logged data and model in run 2b4146605417472eb45d84efa83660d2\n",
            "\n",
            "---------- logged params ----------\n",
            "{'algorithm': 'auto',\n",
            " 'leaf_size': '30',\n",
            " 'metric': 'minkowski',\n",
            " 'metric_params': 'None',\n",
            " 'n_jobs': 'None',\n",
            " 'n_neighbors': '3',\n",
            " 'p': '2',\n",
            " 'weights': 'uniform'}\n",
            "\n",
            "---------- logged metrics ----------\n",
            "{'accuracy_score_x_test': 0.40834496468299286,\n",
            " 'training_accuracy_score': 0.4151378329509046,\n",
            " 'training_f1_score': 0.41515771363520565,\n",
            " 'training_log_loss': 9.705357507420564,\n",
            " 'training_precision_score': 0.421378414788017,\n",
            " 'training_recall_score': 0.4151378329509046,\n",
            " 'training_roc_auc_score': 0.7174630346817606,\n",
            " 'training_score': 0.4151378329509046}\n",
            "\n",
            "---------- logged tags ----------\n",
            "{'estimator_class': 'sklearn.neighbors._classification.KNeighborsClassifier',\n",
            " 'estimator_name': 'KNeighborsClassifier'}\n",
            "\n",
            "---------- logged artifacts ----------\n",
            "['metric_info.json',\n",
            " 'model/MLmodel',\n",
            " 'model/conda.yaml',\n",
            " 'model/model.pkl',\n",
            " 'model/python_env.yaml',\n",
            " 'model/requirements.txt',\n",
            " 'training_confusion_matrix.png']\n"
          ]
        }
      ]
    },
    {
      "cell_type": "code",
      "execution_count": 17,
      "metadata": {
        "id": "i5-iPaawDeZy",
        "colab": {
          "base_uri": "https://localhost:8080/",
          "height": 424
        },
        "outputId": "c6d77694-5c6d-4d70-e167-af23e8057f48"
      },
      "outputs": [
        {
          "output_type": "execute_result",
          "data": {
            "text/plain": [
              "                   produto  vlvenda\n",
              "0       GASOLINA ADITIVADA    5.699\n",
              "1                 GASOLINA    5.499\n",
              "2               DIESEL S10    4.699\n",
              "3                   ETANOL    5.200\n",
              "4                 GASOLINA    5.490\n",
              "...                    ...      ...\n",
              "472851              ETANOL    5.859\n",
              "472852            GASOLINA    6.580\n",
              "472853              ETANOL    4.740\n",
              "472854          DIESEL S10    5.448\n",
              "472855  GASOLINA ADITIVADA    6.580\n",
              "\n",
              "[472856 rows x 2 columns]"
            ],
            "text/html": [
              "\n",
              "  <div id=\"df-57428dd0-6fb7-46c4-b993-c7501f16f6bb\">\n",
              "    <div class=\"colab-df-container\">\n",
              "      <div>\n",
              "<style scoped>\n",
              "    .dataframe tbody tr th:only-of-type {\n",
              "        vertical-align: middle;\n",
              "    }\n",
              "\n",
              "    .dataframe tbody tr th {\n",
              "        vertical-align: top;\n",
              "    }\n",
              "\n",
              "    .dataframe thead th {\n",
              "        text-align: right;\n",
              "    }\n",
              "</style>\n",
              "<table border=\"1\" class=\"dataframe\">\n",
              "  <thead>\n",
              "    <tr style=\"text-align: right;\">\n",
              "      <th></th>\n",
              "      <th>produto</th>\n",
              "      <th>vlvenda</th>\n",
              "    </tr>\n",
              "  </thead>\n",
              "  <tbody>\n",
              "    <tr>\n",
              "      <th>0</th>\n",
              "      <td>GASOLINA ADITIVADA</td>\n",
              "      <td>5.699</td>\n",
              "    </tr>\n",
              "    <tr>\n",
              "      <th>1</th>\n",
              "      <td>GASOLINA</td>\n",
              "      <td>5.499</td>\n",
              "    </tr>\n",
              "    <tr>\n",
              "      <th>2</th>\n",
              "      <td>DIESEL S10</td>\n",
              "      <td>4.699</td>\n",
              "    </tr>\n",
              "    <tr>\n",
              "      <th>3</th>\n",
              "      <td>ETANOL</td>\n",
              "      <td>5.200</td>\n",
              "    </tr>\n",
              "    <tr>\n",
              "      <th>4</th>\n",
              "      <td>GASOLINA</td>\n",
              "      <td>5.490</td>\n",
              "    </tr>\n",
              "    <tr>\n",
              "      <th>...</th>\n",
              "      <td>...</td>\n",
              "      <td>...</td>\n",
              "    </tr>\n",
              "    <tr>\n",
              "      <th>472851</th>\n",
              "      <td>ETANOL</td>\n",
              "      <td>5.859</td>\n",
              "    </tr>\n",
              "    <tr>\n",
              "      <th>472852</th>\n",
              "      <td>GASOLINA</td>\n",
              "      <td>6.580</td>\n",
              "    </tr>\n",
              "    <tr>\n",
              "      <th>472853</th>\n",
              "      <td>ETANOL</td>\n",
              "      <td>4.740</td>\n",
              "    </tr>\n",
              "    <tr>\n",
              "      <th>472854</th>\n",
              "      <td>DIESEL S10</td>\n",
              "      <td>5.448</td>\n",
              "    </tr>\n",
              "    <tr>\n",
              "      <th>472855</th>\n",
              "      <td>GASOLINA ADITIVADA</td>\n",
              "      <td>6.580</td>\n",
              "    </tr>\n",
              "  </tbody>\n",
              "</table>\n",
              "<p>472856 rows × 2 columns</p>\n",
              "</div>\n",
              "      <button class=\"colab-df-convert\" onclick=\"convertToInteractive('df-57428dd0-6fb7-46c4-b993-c7501f16f6bb')\"\n",
              "              title=\"Convert this dataframe to an interactive table.\"\n",
              "              style=\"display:none;\">\n",
              "        \n",
              "  <svg xmlns=\"http://www.w3.org/2000/svg\" height=\"24px\"viewBox=\"0 0 24 24\"\n",
              "       width=\"24px\">\n",
              "    <path d=\"M0 0h24v24H0V0z\" fill=\"none\"/>\n",
              "    <path d=\"M18.56 5.44l.94 2.06.94-2.06 2.06-.94-2.06-.94-.94-2.06-.94 2.06-2.06.94zm-11 1L8.5 8.5l.94-2.06 2.06-.94-2.06-.94L8.5 2.5l-.94 2.06-2.06.94zm10 10l.94 2.06.94-2.06 2.06-.94-2.06-.94-.94-2.06-.94 2.06-2.06.94z\"/><path d=\"M17.41 7.96l-1.37-1.37c-.4-.4-.92-.59-1.43-.59-.52 0-1.04.2-1.43.59L10.3 9.45l-7.72 7.72c-.78.78-.78 2.05 0 2.83L4 21.41c.39.39.9.59 1.41.59.51 0 1.02-.2 1.41-.59l7.78-7.78 2.81-2.81c.8-.78.8-2.07 0-2.86zM5.41 20L4 18.59l7.72-7.72 1.47 1.35L5.41 20z\"/>\n",
              "  </svg>\n",
              "      </button>\n",
              "      \n",
              "  <style>\n",
              "    .colab-df-container {\n",
              "      display:flex;\n",
              "      flex-wrap:wrap;\n",
              "      gap: 12px;\n",
              "    }\n",
              "\n",
              "    .colab-df-convert {\n",
              "      background-color: #E8F0FE;\n",
              "      border: none;\n",
              "      border-radius: 50%;\n",
              "      cursor: pointer;\n",
              "      display: none;\n",
              "      fill: #1967D2;\n",
              "      height: 32px;\n",
              "      padding: 0 0 0 0;\n",
              "      width: 32px;\n",
              "    }\n",
              "\n",
              "    .colab-df-convert:hover {\n",
              "      background-color: #E2EBFA;\n",
              "      box-shadow: 0px 1px 2px rgba(60, 64, 67, 0.3), 0px 1px 3px 1px rgba(60, 64, 67, 0.15);\n",
              "      fill: #174EA6;\n",
              "    }\n",
              "\n",
              "    [theme=dark] .colab-df-convert {\n",
              "      background-color: #3B4455;\n",
              "      fill: #D2E3FC;\n",
              "    }\n",
              "\n",
              "    [theme=dark] .colab-df-convert:hover {\n",
              "      background-color: #434B5C;\n",
              "      box-shadow: 0px 1px 3px 1px rgba(0, 0, 0, 0.15);\n",
              "      filter: drop-shadow(0px 1px 2px rgba(0, 0, 0, 0.3));\n",
              "      fill: #FFFFFF;\n",
              "    }\n",
              "  </style>\n",
              "\n",
              "      <script>\n",
              "        const buttonEl =\n",
              "          document.querySelector('#df-57428dd0-6fb7-46c4-b993-c7501f16f6bb button.colab-df-convert');\n",
              "        buttonEl.style.display =\n",
              "          google.colab.kernel.accessAllowed ? 'block' : 'none';\n",
              "\n",
              "        async function convertToInteractive(key) {\n",
              "          const element = document.querySelector('#df-57428dd0-6fb7-46c4-b993-c7501f16f6bb');\n",
              "          const dataTable =\n",
              "            await google.colab.kernel.invokeFunction('convertToInteractive',\n",
              "                                                     [key], {});\n",
              "          if (!dataTable) return;\n",
              "\n",
              "          const docLinkHtml = 'Like what you see? Visit the ' +\n",
              "            '<a target=\"_blank\" href=https://colab.research.google.com/notebooks/data_table.ipynb>data table notebook</a>'\n",
              "            + ' to learn more about interactive tables.';\n",
              "          element.innerHTML = '';\n",
              "          dataTable['output_type'] = 'display_data';\n",
              "          await google.colab.output.renderOutput(dataTable, element);\n",
              "          const docLink = document.createElement('div');\n",
              "          docLink.innerHTML = docLinkHtml;\n",
              "          element.appendChild(docLink);\n",
              "        }\n",
              "      </script>\n",
              "    </div>\n",
              "  </div>\n",
              "  "
            ]
          },
          "metadata": {},
          "execution_count": 17
        }
      ],
      "source": [
        "df"
      ]
    }
  ],
  "metadata": {
    "colab": {
      "provenance": [],
      "collapsed_sections": []
    },
    "kernelspec": {
      "display_name": "Python 3",
      "name": "python3"
    },
    "language_info": {
      "name": "python"
    }
  },
  "nbformat": 4,
  "nbformat_minor": 0
}